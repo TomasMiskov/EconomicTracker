{
 "cells": [
  {
   "cell_type": "code",
   "execution_count": 41,
   "id": "642a3d07",
   "metadata": {},
   "outputs": [],
   "source": [
    "import pandas as pd\n",
    "import numpy as np\n",
    "import datetime as dt"
   ]
  },
  {
   "cell_type": "code",
   "execution_count": 395,
   "id": "b0305ef0",
   "metadata": {},
   "outputs": [],
   "source": [
    "## Import Google Mobility data\n",
    "\n",
    "data =  pd.read_csv(r\"C:\\Users\\misko\\OneDrive\\Desktop\\BDS\\Block 3\\Research Hackathon I\\EconomicTracker_Covid\\EconomicTracker\\data\\Google Mobility - State - Daily.csv\")\n",
    "# data.head(55)"
   ]
  },
  {
   "cell_type": "code",
   "execution_count": 396,
   "id": "1440ff65",
   "metadata": {},
   "outputs": [],
   "source": [
    "## Create panel structure per year, per week, per state\n",
    "\n",
    "df = data.copy()\n",
    "df.insert(3, \"date\", pd.to_datetime(df[[\"year\", \"month\", \"day\"]])) # create date column\n",
    "df.insert(4, \"week\", df[\"date\"].dt.strftime(\"%W\"))                 # create week of the year column\n",
    "df = df.groupby([\"year\", \"week\", \"statefips\"]).mean()              # group by year, week & state\n",
    "df = df.drop(columns = [\"month\", \"day\"]).reset_index()             # keep year, week & state as variables"
   ]
  },
  {
   "cell_type": "code",
   "execution_count": 397,
   "id": "3e0db064",
   "metadata": {},
   "outputs": [],
   "source": [
    "## Get the policy data with start dates and end dates of stay-at-home advisories\n",
    "\n",
    "policy = pd.read_csv(r\"C:\\Users\\misko\\OneDrive\\Desktop\\BDS\\Block 3\\Research Hackathon I\\EconomicTracker_Covid\\EconomicTracker\\data\\Policy Milestones - State.csv\")\n",
    "policy = policy[['statefips', 'nonessential_biz_closed',\n",
    "                 'stayathome_start', 'statewide_biz_opened', \n",
    "                 'statewide_stayathome_end']]\n",
    "\n",
    "def dates_to_weeks(x):\n",
    "    x = pd.to_datetime(x, errors = \"ignore\")    # change type to date-time\n",
    "    x = x.dt.strftime(\"%W\")                     # get week of the year\n",
    "    x = x.astype(float)                         # convert to floats (integers don't work due to NaNs)\n",
    "    return x\n",
    "\n",
    "policy.iloc[:,1:] = policy.iloc[:,1:].apply(lambda x: dates_to_weeks(x))            # apply transformations"
   ]
  },
  {
   "cell_type": "code",
   "execution_count": 398,
   "id": "2765f1ca",
   "metadata": {},
   "outputs": [],
   "source": [
    "## Create stay-at-home dummy\n",
    "\n",
    "lockdowns = df[[\"year\", \"week\", \"statefips\"]].copy()                                # copy only the panel structure\n",
    "lockdowns[\"week\"] = lockdowns[\"week\"].astype(float)                                 # convert week & year to floats\n",
    "lockdowns[\"year\"] = lockdowns[\"year\"].astype(int)\n",
    "\n",
    "lockdowns = lockdowns.merge(policy, right_on = \"statefips\", left_on = \"statefips\")  # merge policy and weekly state panel\n",
    "lockdowns.sort_values(by = [\"year\", \"week\", \"statefips\"],                           # sort back to panel format\n",
    "                      inplace = True, ignore_index = True) \n",
    "\n",
    "lockdowns[\"stayathome_advisory\"] = np.where(((lockdowns[\"week\"] >= lockdowns[\"stayathome_start\"]) &\n",
    "                                             (lockdowns[\"week\"] <= lockdowns[\"statewide_stayathome_end\"]) &\n",
    "                                              (lockdowns[\"year\"] == 2020)), 1, 0)              # create stay-at-home dummy\n",
    "lockdowns[\"nonessbiz_closed\"] = np.where(((lockdowns[\"week\"] >= lockdowns[\"nonessential_biz_closed\"]) &\n",
    "                                             (lockdowns[\"week\"] <= lockdowns[\"statewide_biz_opened\"]) &\n",
    "                                              (lockdowns[\"year\"] == 2020)), 1, 0)              # create closed_biz dummy\n",
    "\n",
    "## Add dummies to mobility panel data\n",
    "\n",
    "df = df.join(lockdowns[[\"stayathome_advisory\", \"nonessbiz_closed\"]])\n",
    "\n",
    "## Export to csv\n",
    "\n",
    "df.to_csv(\"google_mobility.csv\")"
   ]
  }
 ],
 "metadata": {
  "kernelspec": {
   "display_name": "Python 3",
   "language": "python",
   "name": "python3"
  },
  "language_info": {
   "codemirror_mode": {
    "name": "ipython",
    "version": 3
   },
   "file_extension": ".py",
   "mimetype": "text/x-python",
   "name": "python",
   "nbconvert_exporter": "python",
   "pygments_lexer": "ipython3",
   "version": "3.8.3"
  }
 },
 "nbformat": 4,
 "nbformat_minor": 5
}
