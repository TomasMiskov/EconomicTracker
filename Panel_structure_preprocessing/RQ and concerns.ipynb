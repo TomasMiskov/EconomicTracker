{
 "cells": [
  {
   "cell_type": "markdown",
   "id": "6f04d336",
   "metadata": {},
   "source": [
    "# Economic Recovery vs State Level Stay-at-home Advisory"
   ]
  },
  {
   "cell_type": "code",
   "execution_count": 1,
   "id": "bd893824",
   "metadata": {},
   "outputs": [
    {
     "name": "stdout",
     "output_type": "stream",
     "text": [
      "Exploratory_Visualizations.ipynb        covid_panel.csv\r\n",
      "Mobility_Data_Covid_Preprocessing.ipynb covid_spending_cases_mobility_panel.csv\r\n",
      "RQ and concerns.ipynb                   employment_panel.csv\r\n",
      "SaHAdvisoryCasesSpending.png            spending_panel.csv\r\n",
      "covid_mobility_panel_per_state.csv\r\n"
     ]
    }
   ],
   "source": [
    "!ls"
   ]
  },
  {
   "cell_type": "markdown",
   "id": "1d0ca24a",
   "metadata": {},
   "source": [
    "![title](SaHAdvisoryCasesSpending.png)"
   ]
  },
  {
   "cell_type": "markdown",
   "id": "98018b4d",
   "metadata": {},
   "source": [
    "<font size = 5> RQ: Was the trajectory of economic recovery changed by stay at home advisory? Evidence from state level data on spending and policy.</font>"
   ]
  },
  {
   "cell_type": "markdown",
   "id": "7cd8754f",
   "metadata": {},
   "source": [
    "<font size = 4>Concerns:</font>\n",
    "\n",
    "<font size = 4>\n",
    "- The counterfactual is, at most, 7 states;\n",
    "    - Can they be compared to others?\n",
    "    \n",
    "- Potential endogeneity between pandemic severity and the treatment;\n",
    "    - Can it be that the treatment was only imposed to states where the pandemics were mild? the data doesn't\n",
    "      point to that.\n",
    "    \n",
    "- How to match states? pademic severity? political inclination?\n",
    "    - Political inclination may drive treatment, compliance to treatment and general compliance to safety measures.\n",
    "</font>"
   ]
  },
  {
   "cell_type": "markdown",
   "id": "989af470",
   "metadata": {},
   "source": [
    "<font size = 4>\n",
    "1-step: \n",
    "    Choose States and match to counterfactual states\n",
    "    \n",
    "2-step:\n",
    "    Check for parallel trends\n",
    "    \n",
    "3-step:\n",
    "    DiD:\n",
    "        $Y_i = X\\beta_i + \\delta_i D_i + \\eta_i + \\epsilon_i$\n",
    "</font> \n"
   ]
  },
  {
   "cell_type": "code",
   "execution_count": null,
   "id": "af7978cb",
   "metadata": {},
   "outputs": [],
   "source": []
  }
 ],
 "metadata": {
  "kernelspec": {
   "display_name": "Python 3",
   "language": "python",
   "name": "python3"
  },
  "language_info": {
   "codemirror_mode": {
    "name": "ipython",
    "version": 3
   },
   "file_extension": ".py",
   "mimetype": "text/x-python",
   "name": "python",
   "nbconvert_exporter": "python",
   "pygments_lexer": "ipython3",
   "version": "3.8.8"
  }
 },
 "nbformat": 4,
 "nbformat_minor": 5
}
